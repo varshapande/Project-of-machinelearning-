{
  "nbformat": 4,
  "nbformat_minor": 0,
  "metadata": {
    "colab": {
      "name": "Gsearch.ipynb",
      "provenance": [],
      "mount_file_id": "1XB72QfwryGCP70KsUrmffZp3PSiyMxfJ",
      "authorship_tag": "ABX9TyN6fTGUxYiuJsXxXAMRcig5",
      "include_colab_link": true
    },
    "kernelspec": {
      "name": "python3",
      "display_name": "Python 3"
    },
    "language_info": {
      "name": "python"
    }
  },
  "cells": [
    {
      "cell_type": "markdown",
      "metadata": {
        "id": "view-in-github",
        "colab_type": "text"
      },
      "source": [
        "<a href=\"https://colab.research.google.com/github/varshapande/Project-of-machinelearning-/blob/main/Gsearch.ipynb\" target=\"_parent\"><img src=\"https://colab.research.google.com/assets/colab-badge.svg\" alt=\"Open In Colab\"/></a>"
      ]
    },
    {
      "cell_type": "code",
      "metadata": {
        "id": "KXmXT9aaoACa"
      },
      "source": [
        "import numpy as np \n",
        "import pandas as pd"
      ],
      "execution_count": 3,
      "outputs": []
    },
    {
      "cell_type": "code",
      "metadata": {
        "id": "vrZi0HiHozFk"
      },
      "source": [
        "df = pd.read_csv('/content/drive/MyDrive/train.csv (1).zip')"
      ],
      "execution_count": 4,
      "outputs": []
    },
    {
      "cell_type": "code",
      "metadata": {
        "colab": {
          "base_uri": "https://localhost:8080/"
        },
        "id": "ailJCVuDqDq0",
        "outputId": "7c61e716-0b36-4e14-de22-7f5a870f3dc9"
      },
      "source": [
        "from google.colab import drive\n",
        "drive.mount('/content/drive')"
      ],
      "execution_count": 1,
      "outputs": [
        {
          "output_type": "stream",
          "name": "stdout",
          "text": [
            "Drive already mounted at /content/drive; to attempt to forcibly remount, call drive.mount(\"/content/drive\", force_remount=True).\n"
          ]
        }
      ]
    },
    {
      "cell_type": "code",
      "metadata": {
        "colab": {
          "base_uri": "https://localhost:8080/",
          "height": 226
        },
        "id": "TOy4tSjrpBvA",
        "outputId": "d836a5dd-506c-429b-f96a-423754b7f82d"
      },
      "source": [
        "df.head()"
      ],
      "execution_count": 5,
      "outputs": [
        {
          "output_type": "execute_result",
          "data": {
            "text/html": [
              "<div>\n",
              "<style scoped>\n",
              "    .dataframe tbody tr th:only-of-type {\n",
              "        vertical-align: middle;\n",
              "    }\n",
              "\n",
              "    .dataframe tbody tr th {\n",
              "        vertical-align: top;\n",
              "    }\n",
              "\n",
              "    .dataframe thead th {\n",
              "        text-align: right;\n",
              "    }\n",
              "</style>\n",
              "<table border=\"1\" class=\"dataframe\">\n",
              "  <thead>\n",
              "    <tr style=\"text-align: right;\">\n",
              "      <th></th>\n",
              "      <th>timestamp</th>\n",
              "      <th>Asset_ID</th>\n",
              "      <th>Count</th>\n",
              "      <th>Open</th>\n",
              "      <th>High</th>\n",
              "      <th>Low</th>\n",
              "      <th>Close</th>\n",
              "      <th>Volume</th>\n",
              "      <th>VWAP</th>\n",
              "      <th>Target</th>\n",
              "    </tr>\n",
              "  </thead>\n",
              "  <tbody>\n",
              "    <tr>\n",
              "      <th>0</th>\n",
              "      <td>1514764860</td>\n",
              "      <td>2</td>\n",
              "      <td>40.0</td>\n",
              "      <td>2376.5800</td>\n",
              "      <td>2399.5000</td>\n",
              "      <td>2357.1400</td>\n",
              "      <td>2374.5900</td>\n",
              "      <td>19.233005</td>\n",
              "      <td>2373.116392</td>\n",
              "      <td>-0.004218</td>\n",
              "    </tr>\n",
              "    <tr>\n",
              "      <th>1</th>\n",
              "      <td>1514764860</td>\n",
              "      <td>0</td>\n",
              "      <td>5.0</td>\n",
              "      <td>8.5300</td>\n",
              "      <td>8.5300</td>\n",
              "      <td>8.5300</td>\n",
              "      <td>8.5300</td>\n",
              "      <td>78.380000</td>\n",
              "      <td>8.530000</td>\n",
              "      <td>-0.014399</td>\n",
              "    </tr>\n",
              "    <tr>\n",
              "      <th>2</th>\n",
              "      <td>1514764860</td>\n",
              "      <td>1</td>\n",
              "      <td>229.0</td>\n",
              "      <td>13835.1940</td>\n",
              "      <td>14013.8000</td>\n",
              "      <td>13666.1100</td>\n",
              "      <td>13850.1760</td>\n",
              "      <td>31.550062</td>\n",
              "      <td>13827.062093</td>\n",
              "      <td>-0.014643</td>\n",
              "    </tr>\n",
              "    <tr>\n",
              "      <th>3</th>\n",
              "      <td>1514764860</td>\n",
              "      <td>5</td>\n",
              "      <td>32.0</td>\n",
              "      <td>7.6596</td>\n",
              "      <td>7.6596</td>\n",
              "      <td>7.6567</td>\n",
              "      <td>7.6576</td>\n",
              "      <td>6626.713370</td>\n",
              "      <td>7.657713</td>\n",
              "      <td>-0.013922</td>\n",
              "    </tr>\n",
              "    <tr>\n",
              "      <th>4</th>\n",
              "      <td>1514764860</td>\n",
              "      <td>7</td>\n",
              "      <td>5.0</td>\n",
              "      <td>25.9200</td>\n",
              "      <td>25.9200</td>\n",
              "      <td>25.8740</td>\n",
              "      <td>25.8770</td>\n",
              "      <td>121.087310</td>\n",
              "      <td>25.891363</td>\n",
              "      <td>-0.008264</td>\n",
              "    </tr>\n",
              "  </tbody>\n",
              "</table>\n",
              "</div>"
            ],
            "text/plain": [
              "    timestamp  Asset_ID  Count  ...       Volume          VWAP    Target\n",
              "0  1514764860         2   40.0  ...    19.233005   2373.116392 -0.004218\n",
              "1  1514764860         0    5.0  ...    78.380000      8.530000 -0.014399\n",
              "2  1514764860         1  229.0  ...    31.550062  13827.062093 -0.014643\n",
              "3  1514764860         5   32.0  ...  6626.713370      7.657713 -0.013922\n",
              "4  1514764860         7    5.0  ...   121.087310     25.891363 -0.008264\n",
              "\n",
              "[5 rows x 10 columns]"
            ]
          },
          "metadata": {},
          "execution_count": 5
        }
      ]
    },
    {
      "cell_type": "code",
      "metadata": {
        "id": "GUsUiWCjpDeZ"
      },
      "source": [
        ""
      ],
      "execution_count": null,
      "outputs": []
    }
  ]
}